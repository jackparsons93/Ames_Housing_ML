{
 "cells": [
  {
   "cell_type": "markdown",
   "id": "7dc1a119-ce80-4e22-8d60-12da9263bc93",
   "metadata": {},
   "source": [
    "# This Code merges the two data sets into one"
   ]
  },
  {
   "cell_type": "code",
   "execution_count": 2,
   "id": "bee3f48e-21b7-4962-92e0-9009e520f473",
   "metadata": {},
   "outputs": [
    {
     "name": "stdout",
     "output_type": "stream",
     "text": [
      "Real Estate Data columns: Index(['MapRefNo', 'PID', 'Tier', 'Range', 'Address', 'ZngCdPr', 'ZngCdSc',\n",
      "       'ZngOLPr', 'ZngOLSc', 'ClassPr_S', 'ClassSc_S', 'Legal_Pr', 'SchD_S',\n",
      "       'TxD_S', 'MA_Ownr1', 'MA_Ownr2', 'MA_Line1', 'MA_Line2', 'MA_City',\n",
      "       'MA_State', 'MA_Zip1', 'MA_Zip2', 'Rcrd_Yr', 'Rcrd_Mo', 'Inst1_No',\n",
      "       'Inst1_Yr', 'Inst1_Mo', 'Inst1TPr', 'LndAc_S', 'ImpAc_S', 'OthAc_S',\n",
      "       'TtlVal_AsrYr', 'ValType', 'X1TPr_D', 'X1TSc_D', 'X2TPr_D', 'X2TSc_D',\n",
      "       'X1TPr_S', 'X1TSc_S', 'X2TPr_S', 'X2TSc_S', 'LndAcX1S', 'ImpAcX1S',\n",
      "       'ImpAcX2S', 'HSTtl_D', 'MilVal_D', 'HSTtl_S', 'MilVal_S', 'AcreX_S1',\n",
      "       'AcreGr', 'AcreNt_S', 'Neighborhood', 'LotArea', 'ParType', 'BldgNo_S',\n",
      "       'DwlgNo_S', 'BldgType', 'YrBuilt', 'HouseStyle', 'Foundation',\n",
      "       'RoofMatl', 'Ext1', 'Ext2', 'MasVnrType', 'Heating', 'Central Air',\n",
      "       'GLA', 'TtlBsmtSF', 'TotRmsAbvGrd', 'Fireplaces', 'PoolArea',\n",
      "       'GarageType', 'GarYrBlt', 'Cars', 'GarageArea', 'YrSold_YYYY',\n",
      "       'MoSold_MM', 'SalePrice', 'SaleType', 'SaleCond', 'ParclRel', 'PA-Nmbr',\n",
      "       'PA-PreD', 'PA-Strt', 'PA-StSfx', 'PA-PostD', 'PA-UnTyp', 'PA-UntNo',\n",
      "       'Date', 'Source', 'NmbrBRs'],\n",
      "      dtype='object')\n",
      "House Price Data columns: Index(['Index', 'PID', 'GrLivArea', 'SalePrice', 'MSSubClass', 'MSZoning',\n",
      "       'LotFrontage', 'LotArea', 'Street', 'Alley', 'LotShape', 'LandContour',\n",
      "       'Utilities', 'LotConfig', 'LandSlope', 'Neighborhood', 'Condition1',\n",
      "       'Condition2', 'BldgType', 'HouseStyle', 'OverallQual', 'OverallCond',\n",
      "       'YearBuilt', 'YearRemodAdd', 'RoofStyle', 'RoofMatl', 'Exterior1st',\n",
      "       'Exterior2nd', 'MasVnrType', 'MasVnrArea', 'ExterQual', 'ExterCond',\n",
      "       'Foundation', 'BsmtQual', 'BsmtCond', 'BsmtExposure', 'BsmtFinType1',\n",
      "       'BsmtFinSF1', 'BsmtFinType2', 'BsmtFinSF2', 'BsmtUnfSF', 'TotalBsmtSF',\n",
      "       'Heating', 'HeatingQC', 'CentralAir', 'Electrical', '1stFlrSF',\n",
      "       '2ndFlrSF', 'LowQualFinSF', 'BsmtFullBath', 'BsmtHalfBath', 'FullBath',\n",
      "       'HalfBath', 'BedroomAbvGr', 'KitchenAbvGr', 'KitchenQual',\n",
      "       'TotRmsAbvGrd', 'Functional', 'Fireplaces', 'FireplaceQu', 'GarageType',\n",
      "       'GarageYrBlt', 'GarageFinish', 'GarageCars', 'GarageArea', 'GarageQual',\n",
      "       'GarageCond', 'PavedDrive', 'WoodDeckSF', 'OpenPorchSF',\n",
      "       'EnclosedPorch', '3SsnPorch', 'ScreenPorch', 'PoolArea', 'PoolQC',\n",
      "       'Fence', 'MiscFeature', 'MiscVal', 'MoSold', 'YrSold', 'SaleType',\n",
      "       'SaleCondition'],\n",
      "      dtype='object')\n"
     ]
    }
   ],
   "source": [
    "from geopy.geocoders import Nominatim\n",
    "import pandas as pd\n",
    "import numpy as np\n",
    "\n",
    "#load the two datasets\n",
    "real_estate_data = pd.read_csv('Ames Real Estate Data.csv', low_memory=False)\n",
    "house_price_data = pd.read_csv('Ames_HousePrice.csv')\n",
    "\n",
    "# Standardize column names for merging\n",
    "real_estate_data.rename(columns={'GeoRefNo': 'PID', 'Prop_Addr': 'Address'}, inplace=True)\n",
    "house_price_data.rename(columns={'Unnamed: 0': 'Index'}, inplace=True)\n",
    "\n",
    "# Verify columns\n",
    "print(\"Real Estate Data columns:\", real_estate_data.columns)\n",
    "print(\"House Price Data columns:\", house_price_data.columns)\n",
    "\n",
    "# Merge datasets on 'PID'\n",
    "merged_data = pd.merge(house_price_data, real_estate_data, on='PID', how='inner')\n",
    "merged_data.to_csv('merged.csv')"
   ]
  }
 ],
 "metadata": {
  "kernelspec": {
   "display_name": "Python 3 (ipykernel)",
   "language": "python",
   "name": "python3"
  },
  "language_info": {
   "codemirror_mode": {
    "name": "ipython",
    "version": 3
   },
   "file_extension": ".py",
   "mimetype": "text/x-python",
   "name": "python",
   "nbconvert_exporter": "python",
   "pygments_lexer": "ipython3",
   "version": "3.11.5"
  }
 },
 "nbformat": 4,
 "nbformat_minor": 5
}
