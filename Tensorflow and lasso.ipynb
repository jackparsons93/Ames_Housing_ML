{
 "cells": [
  {
   "cell_type": "markdown",
   "id": "ce86af13-9603-41fe-8f09-f91cfc0cdbdc",
   "metadata": {},
   "source": [
    "# Using Lasso to feature select then hyperparameter tuning using tensorflow"
   ]
  },
  {
   "cell_type": "code",
   "execution_count": 6,
   "id": "38776509-4e2a-4c22-928a-d3d793497941",
   "metadata": {},
   "outputs": [
    {
     "name": "stderr",
     "output_type": "stream",
     "text": [
      "/Users/chriswilson/Desktop/ames/tf/lib/python3.11/site-packages/sklearn/impute/_base.py:598: UserWarning: Skipping features without any observed values: ['MA_Line2' 'X2TPr_D' 'X2TSc_D' 'X2TPr_S' 'X2TSc_S' 'PA-PostD']. At least one non-missing value is needed for imputation with strategy='median'.\n",
      "  warnings.warn(\n"
     ]
    },
    {
     "name": "stdout",
     "output_type": "stream",
     "text": [
      "Fitting 3 folds for each of 2 candidates, totalling 6 fits\n"
     ]
    },
    {
     "name": "stderr",
     "output_type": "stream",
     "text": [
      "2024-07-24 22:10:19.179737: I metal_plugin/src/device/metal_device.cc:1154] Metal device set to: Apple M2 Pro\n",
      "2024-07-24 22:10:19.179772: I metal_plugin/src/device/metal_device.cc:296] systemMemory: 32.00 GB\n",
      "2024-07-24 22:10:19.179779: I metal_plugin/src/device/metal_device.cc:313] maxCacheSize: 10.67 GB\n",
      "2024-07-24 22:10:19.179798: I tensorflow/core/common_runtime/pluggable_device/pluggable_device_factory.cc:305] Could not identify NUMA node of platform GPU ID 0, defaulting to 0. Your kernel may not have been built with NUMA support.\n",
      "2024-07-24 22:10:19.179811: I tensorflow/core/common_runtime/pluggable_device/pluggable_device_factory.cc:271] Created TensorFlow device (/job:localhost/replica:0/task:0/device:GPU:0 with 0 MB memory) -> physical PluggableDevice (device: 0, name: METAL, pci bus id: <undefined>)\n",
      "2024-07-24 22:10:19.179949: I metal_plugin/src/device/metal_device.cc:1154] Metal device set to: Apple M2 Pro\n",
      "2024-07-24 22:10:19.179977: I metal_plugin/src/device/metal_device.cc:296] systemMemory: 32.00 GB\n",
      "2024-07-24 22:10:19.179983: I metal_plugin/src/device/metal_device.cc:313] maxCacheSize: 10.67 GB\n",
      "2024-07-24 22:10:19.180004: I tensorflow/core/common_runtime/pluggable_device/pluggable_device_factory.cc:305] Could not identify NUMA node of platform GPU ID 0, defaulting to 0. Your kernel may not have been built with NUMA support.\n",
      "2024-07-24 22:10:19.180050: I tensorflow/core/common_runtime/pluggable_device/pluggable_device_factory.cc:271] Created TensorFlow device (/job:localhost/replica:0/task:0/device:GPU:0 with 0 MB memory) -> physical PluggableDevice (device: 0, name: METAL, pci bus id: <undefined>)\n",
      "2024-07-24 22:10:19.184578: I metal_plugin/src/device/metal_device.cc:1154] Metal device set to: Apple M2 Pro\n",
      "2024-07-24 22:10:19.184611: I metal_plugin/src/device/metal_device.cc:296] systemMemory: 32.00 GB\n",
      "2024-07-24 22:10:19.184617: I metal_plugin/src/device/metal_device.cc:313] maxCacheSize: 10.67 GB\n",
      "2024-07-24 22:10:19.184637: I tensorflow/core/common_runtime/pluggable_device/pluggable_device_factory.cc:305] Could not identify NUMA node of platform GPU ID 0, defaulting to 0. Your kernel may not have been built with NUMA support.\n",
      "2024-07-24 22:10:19.184650: I tensorflow/core/common_runtime/pluggable_device/pluggable_device_factory.cc:271] Created TensorFlow device (/job:localhost/replica:0/task:0/device:GPU:0 with 0 MB memory) -> physical PluggableDevice (device: 0, name: METAL, pci bus id: <undefined>)\n",
      "2024-07-24 22:10:19.192873: I metal_plugin/src/device/metal_device.cc:1154] Metal device set to: Apple M2 Pro\n",
      "2024-07-24 22:10:19.192894: I metal_plugin/src/device/metal_device.cc:296] systemMemory: 32.00 GB\n",
      "2024-07-24 22:10:19.192899: I metal_plugin/src/device/metal_device.cc:313] maxCacheSize: 10.67 GB\n",
      "2024-07-24 22:10:19.192916: I tensorflow/core/common_runtime/pluggable_device/pluggable_device_factory.cc:305] Could not identify NUMA node of platform GPU ID 0, defaulting to 0. Your kernel may not have been built with NUMA support.\n",
      "2024-07-24 22:10:19.192929: I tensorflow/core/common_runtime/pluggable_device/pluggable_device_factory.cc:271] Created TensorFlow device (/job:localhost/replica:0/task:0/device:GPU:0 with 0 MB memory) -> physical PluggableDevice (device: 0, name: METAL, pci bus id: <undefined>)\n",
      "2024-07-24 22:10:19.193847: I metal_plugin/src/device/metal_device.cc:1154] Metal device set to: Apple M2 Pro\n",
      "2024-07-24 22:10:19.193863: I metal_plugin/src/device/metal_device.cc:296] systemMemory: 32.00 GB\n",
      "2024-07-24 22:10:19.193868: I metal_plugin/src/device/metal_device.cc:313] maxCacheSize: 10.67 GB\n",
      "2024-07-24 22:10:19.193880: I tensorflow/core/common_runtime/pluggable_device/pluggable_device_factory.cc:305] Could not identify NUMA node of platform GPU ID 0, defaulting to 0. Your kernel may not have been built with NUMA support.\n",
      "2024-07-24 22:10:19.193888: I tensorflow/core/common_runtime/pluggable_device/pluggable_device_factory.cc:271] Created TensorFlow device (/job:localhost/replica:0/task:0/device:GPU:0 with 0 MB memory) -> physical PluggableDevice (device: 0, name: METAL, pci bus id: <undefined>)\n",
      "2024-07-24 22:10:19.194991: I metal_plugin/src/device/metal_device.cc:1154] Metal device set to: Apple M2 Pro\n",
      "2024-07-24 22:10:19.195003: I metal_plugin/src/device/metal_device.cc:296] systemMemory: 32.00 GB\n",
      "2024-07-24 22:10:19.195008: I metal_plugin/src/device/metal_device.cc:313] maxCacheSize: 10.67 GB\n",
      "2024-07-24 22:10:19.195020: I tensorflow/core/common_runtime/pluggable_device/pluggable_device_factory.cc:305] Could not identify NUMA node of platform GPU ID 0, defaulting to 0. Your kernel may not have been built with NUMA support.\n",
      "2024-07-24 22:10:19.195027: I tensorflow/core/common_runtime/pluggable_device/pluggable_device_factory.cc:271] Created TensorFlow device (/job:localhost/replica:0/task:0/device:GPU:0 with 0 MB memory) -> physical PluggableDevice (device: 0, name: METAL, pci bus id: <undefined>)\n",
      "2024-07-24 22:10:19.717839: I tensorflow/core/grappler/optimizers/custom_graph_optimizer_registry.cc:117] Plugin optimizer for device_type GPU is enabled.\n",
      "2024-07-24 22:10:19.737364: I tensorflow/core/grappler/optimizers/custom_graph_optimizer_registry.cc:117] Plugin optimizer for device_type GPU is enabled.\n",
      "2024-07-24 22:10:19.739051: I tensorflow/core/grappler/optimizers/custom_graph_optimizer_registry.cc:117] Plugin optimizer for device_type GPU is enabled.\n",
      "2024-07-24 22:10:19.744061: I tensorflow/core/grappler/optimizers/custom_graph_optimizer_registry.cc:117] Plugin optimizer for device_type GPU is enabled.\n",
      "2024-07-24 22:10:19.745895: I tensorflow/core/grappler/optimizers/custom_graph_optimizer_registry.cc:117] Plugin optimizer for device_type GPU is enabled.\n",
      "2024-07-24 22:10:19.746335: I tensorflow/core/grappler/optimizers/custom_graph_optimizer_registry.cc:117] Plugin optimizer for device_type GPU is enabled.\n"
     ]
    },
    {
     "name": "stdout",
     "output_type": "stream",
     "text": [
      "[CV] END batch_size=16, epochs=500, model__activation=relu, model__dropout_rate=0.0, model__optimizer=rmsprop; total time= 5.3min\n",
      "[CV] END batch_size=16, epochs=500, model__activation=relu, model__dropout_rate=0.0, model__optimizer=rmsprop; total time= 5.3min\n",
      "[CV] END batch_size=16, epochs=500, model__activation=relu, model__dropout_rate=0.0, model__optimizer=rmsprop; total time= 5.3min\n",
      "Best Parameters: {'batch_size': 16, 'epochs': 500, 'model__activation': 'relu', 'model__dropout_rate': 0.0, 'model__optimizer': 'rmsprop'}\n",
      "Model Mean Squared Error: 375966208.51770777\n",
      "Model R-squared: 0.9368091225624084\n",
      "[CV] END batch_size=16, epochs=1000, model__activation=relu, model__dropout_rate=0.0, model__optimizer=rmsprop; total time= 8.7min\n",
      "[CV] END batch_size=16, epochs=1000, model__activation=relu, model__dropout_rate=0.0, model__optimizer=rmsprop; total time= 8.8min\n",
      "[CV] END batch_size=16, epochs=1000, model__activation=relu, model__dropout_rate=0.0, model__optimizer=rmsprop; total time= 8.8min\n"
     ]
    }
   ],
   "source": [
    "# Import necessary libraries\n",
    "import pandas as pd\n",
    "import numpy as np\n",
    "from sklearn.model_selection import train_test_split, GridSearchCV\n",
    "from sklearn.preprocessing import StandardScaler, OneHotEncoder\n",
    "from sklearn.impute import SimpleImputer\n",
    "from sklearn.compose import ColumnTransformer\n",
    "from sklearn.pipeline import Pipeline\n",
    "from sklearn.linear_model import Lasso\n",
    "from sklearn.metrics import mean_squared_error, r2_score\n",
    "from tensorflow.keras.models import Sequential\n",
    "from tensorflow.keras.layers import Dense, Dropout, Input\n",
    "from scikeras.wrappers import KerasRegressor\n",
    "\n",
    "# Import the functions from the module\n",
    "from data_processing_module import load_data, preprocess_data, split_data\n",
    "\n",
    "# Cell 2: Use the imported functions\n",
    "file_path = 'merged3.csv'  # Update this path to the location of your file\n",
    "target_column = 'SalePrice_x'\n",
    "drop_columns = ['Unnamed: 0', 'PID', 'Index']\n",
    "\n",
    "# Load the data\n",
    "data = load_data(file_path)\n",
    "\n",
    "# Preprocess the data\n",
    "X_preprocessed, y, preprocessor = preprocess_data(data, target_column, drop_columns)\n",
    "\n",
    "# Split the data\n",
    "X_train, X_test, y_train, y_test = split_data(X_preprocessed, y)\n",
    "\n",
    "# Feature selection using Lasso\n",
    "lasso = Lasso(alpha=0.01, max_iter=10000)\n",
    "lasso.fit(X_train, y_train)\n",
    "\n",
    "# Get the selected features\n",
    "selected_features = np.where(lasso.coef_ != 0)[0]\n",
    "X_train_selected = X_train[:, selected_features]\n",
    "X_test_selected = X_test[:, selected_features]\n",
    "\n",
    "# Define the create_model function\n",
    "def create_model(optimizer='adam', activation='relu', dropout_rate=0.0):\n",
    "    model = Sequential()\n",
    "    model.add(Input(shape=(X_train_selected.shape[1],)))\n",
    "    model.add(Dense(64, activation=activation))\n",
    "    model.add(Dropout(dropout_rate))\n",
    "    model.add(Dense(32, activation=activation))\n",
    "    model.add(Dropout(dropout_rate))\n",
    "    model.add(Dense(1, activation='linear'))\n",
    "    model.compile(optimizer=optimizer, loss='mean_squared_error', metrics=['mean_squared_error'])\n",
    "    return model\n",
    "\n",
    "# Create the KerasRegressor\n",
    "model = KerasRegressor(model=create_model, verbose=0)\n",
    "\n",
    "# Define the parameter grid for hyperparameter tuning\n",
    "param_grid = {\n",
    "    'model__optimizer': ['rmsprop'],\n",
    "    'model__activation': ['relu'],\n",
    "    'model__dropout_rate': [0.0],\n",
    "    'batch_size': [16],\n",
    "    'epochs': [500, 1000]\n",
    "}\n",
    "\n",
    "# Hyperparameter tuning with GridSearchCV\n",
    "grid_search = GridSearchCV(estimator=model, param_grid=param_grid, scoring='r2', cv=3, n_jobs=-1, verbose=2)\n",
    "grid_search.fit(X_train_selected, y_train)\n",
    "\n",
    "# Get the best model\n",
    "best_model = grid_search.best_estimator_\n",
    "print(f\"Best Parameters: {grid_search.best_params_}\")\n",
    "\n",
    "# Make predictions with the best model\n",
    "y_pred = best_model.predict(X_test_selected)\n",
    "\n",
    "# Evaluate the model\n",
    "mse = mean_squared_error(y_test, y_pred)\n",
    "r2 = r2_score(y_test, y_pred)\n",
    "\n",
    "print(f'Model Mean Squared Error: {mse}')\n",
    "print(f'Model R-squared: {r2}')\n"
   ]
  }
 ],
 "metadata": {
  "kernelspec": {
   "display_name": "Python 3 (ipykernel)",
   "language": "python",
   "name": "python3"
  },
  "language_info": {
   "codemirror_mode": {
    "name": "ipython",
    "version": 3
   },
   "file_extension": ".py",
   "mimetype": "text/x-python",
   "name": "python",
   "nbconvert_exporter": "python",
   "pygments_lexer": "ipython3",
   "version": "3.11.5"
  }
 },
 "nbformat": 4,
 "nbformat_minor": 5
}
